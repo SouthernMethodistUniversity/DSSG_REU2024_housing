{
 "cells": [
  {
   "cell_type": "code",
   "execution_count": 1,
   "id": "d942d9ed-9a99-4a6a-9973-9d75a29555d4",
   "metadata": {},
   "outputs": [
    {
     "name": "stdout",
     "output_type": "stream",
     "text": [
      "Duplicates removed. The cleaned file is saved as Yardi_Cleaned.csv\n"
     ]
    },
    {
     "name": "stderr",
     "output_type": "stream",
     "text": [
      "/tmp/ipykernel_2966157/4138347237.py:5: DtypeWarning: Columns (1,11,12,13,14,16,17,18,19,20,21,24,26,27,28,29) have mixed types. Specify dtype option on import or set low_memory=False.\n",
      "  df = pd.read_csv(input_file)\n"
     ]
    }
   ],
   "source": [
    "import pandas as pd\n",
    "\n",
    "def remove_duplicates(input_file, output_file):\n",
    "    # Read the CSV file\n",
    "    df = pd.read_csv(input_file)\n",
    "    \n",
    "    # Remove duplicate rows\n",
    "    df_unique = df.drop_duplicates()\n",
    "    \n",
    "    # Save the result to a new CSV file\n",
    "    df_unique.to_csv(output_file, index=False)\n",
    "    \n",
    "    print(f\"Duplicates removed. The cleaned file is saved as {output_file}\")\n",
    "\n",
    "# Example usage\n",
    "input_file = 'Yardi Housing Data.csv'  # Replace with your input file name\n",
    "output_file = 'Yardi_Cleaned.csv'  # Replace with your desired output file name\n",
    "remove_duplicates(input_file, output_file)\n"
   ]
  },
  {
   "cell_type": "code",
   "execution_count": null,
   "id": "a018b610-b03c-4e38-bd93-1ec56e3dd854",
   "metadata": {},
   "outputs": [],
   "source": []
  }
 ],
 "metadata": {
  "kernelspec": {
   "display_name": "Python 3 (ipykernel)",
   "language": "python",
   "name": "python3"
  },
  "language_info": {
   "codemirror_mode": {
    "name": "ipython",
    "version": 3
   },
   "file_extension": ".py",
   "mimetype": "text/x-python",
   "name": "python",
   "nbconvert_exporter": "python",
   "pygments_lexer": "ipython3",
   "version": "3.11.0rc1"
  }
 },
 "nbformat": 4,
 "nbformat_minor": 5
}
