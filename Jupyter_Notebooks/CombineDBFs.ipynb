{
 "cells": [
  {
   "cell_type": "code",
   "execution_count": 1,
   "id": "03efc9aa-d714-4741-bdcc-4a6378d5c01d",
   "metadata": {},
   "outputs": [],
   "source": [
    "import geopandas\n",
    "import pandas as pd\n",
    "%config InlineBackend.figure_format ='retina'"
   ]
  },
  {
   "cell_type": "code",
   "execution_count": 2,
   "id": "3de0c4e3-5c6b-48a1-a56a-6781dc515959",
   "metadata": {},
   "outputs": [],
   "source": [
    "shpPaths = ['Atlanta - Suburban.shp', 'Atlanta - Urban.shp', 'Austin.shp', 'Boise.shp', 'Charleston.shp', 'Charlotte.shp', 'Colorado Springs.shp', 'Dallas - North.shp', 'Dallas - Suburban.shp', 'Denver.shp', 'Fort Worth.shp', 'Greenville.shp', 'Houston - East.shp', 'Houston - West.shp', 'Jacksonville.shp', 'Las Vegas.shp', 'Nashville.shp', 'North Central Florida.shp', 'NW Arkansas.shp', 'Orlando.shp', 'Phoenix.shp', 'Raleigh - Durham.shp', 'Salt Lake City.shp', 'San Antonio.shp', 'Tampa - St Petersburg - Clearwater.shp', 'West Palm Beach - Boca Raton.shp']"
   ]
  },
  {
   "cell_type": "code",
   "execution_count": 2,
   "id": "b8544a59-c837-4fbd-8ab6-5136b7b20322",
   "metadata": {},
   "outputs": [],
   "source": [
    "dbfPaths = ['../Shapefiles/Atlanta - Suburban.dbf', '../Shapefiles/Atlanta - Urban.dbf', '../Shapefiles/Austin.dbf', '../Shapefiles/Boise.dbf', '../Shapefiles/Charleston.dbf', '../Shapefiles/Charlotte.dbf', '../Shapefiles/Colorado Springs.dbf', '../Shapefiles/Dallas - North.dbf', '../Shapefiles/Dallas - Suburban.dbf', '../Shapefiles/Denver.dbf', '../Shapefiles/Fort Worth.dbf', '../Shapefiles/Greenville.dbf', '../Shapefiles/Houston - East.dbf', '../Shapefiles/Houston - West.dbf', '../Shapefiles/Jacksonville.dbf', '../Shapefiles/Las Vegas.dbf', '../Shapefiles/Nashville.dbf', '../Shapefiles/North Central Florida.dbf', '../Shapefiles/NW Arkansas.dbf', '../Shapefiles/Orlando.dbf', '../Shapefiles/Phoenix.dbf', '../Shapefiles/Raleigh - Durham.dbf', '../Shapefiles/Salt Lake City.dbf', '../Shapefiles/San Antonio.dbf', '../Shapefiles/Tampa - St Petersburg - Clearwater.dbf', '../Shapefiles/West Palm Beach - Boca Raton.dbf']"
   ]
  },
  {
   "cell_type": "code",
   "execution_count": null,
   "id": "f2228278-baaf-4d1a-982e-b7157c10830f",
   "metadata": {},
   "outputs": [],
   "source": [
    "# Reading in each shapefile and adding Area and Boundaries columns\n",
    "#for path in shpPaths:\n",
    "#    gdf = geopandas.read_file(path)\n",
    "#    gdf[\"Area\"] = gdf.area\n",
    "#    gdf[\"Boundaries\"] = gdf.boundary"
   ]
  },
  {
   "cell_type": "code",
   "execution_count": 3,
   "id": "28be920e-dd55-4109-af9e-57685496991e",
   "metadata": {},
   "outputs": [
    {
     "name": "stdout",
     "output_type": "stream",
     "text": [
      "PyTables is not installed. No support for HDF output.\n"
     ]
    }
   ],
   "source": [
    "import pandas as pd\n",
    "from simpledbf import Dbf5\n",
    "\n",
    "# Initialize an empty DataFrame\n",
    "combined_df = pd.DataFrame()\n",
    "\n",
    "# Iterate over each DBF file and append it to the combined DataFrame\n",
    "for dbf_path in dbfPaths:\n",
    "    dbf = Dbf5(dbf_path)\n",
    "    df = dbf.to_dataframe()\n",
    "    \n",
    "    # Combine 'Submarket' and 'submarket' into a single column\n",
    "    if 'Submarket' in df.columns and 'submarket' in df.columns:\n",
    "        df['Submarket'] = df['Submarket'].combine_first(df['submarket'])\n",
    "        df = df.drop(columns=['submarket'])\n",
    "    elif 'submarket' in df.columns:\n",
    "        df.rename(columns={'submarket': 'Submarket'}, inplace=True)\n",
    "    \n",
    "    combined_df = pd.concat([combined_df, df], ignore_index=True)\n",
    "\n",
    "# Save the combined DataFrame to a CSV file (optional)\n",
    "combined_df.to_csv('../combined_dbfs.csv', index=False)"
   ]
  },
  {
   "cell_type": "markdown",
   "id": "42b2672a-5eb4-4b76-8d74-e7776217685f",
   "metadata": {},
   "source": [
    "### Cleaning combined DBFs"
   ]
  },
  {
   "cell_type": "code",
   "execution_count": 1,
   "id": "c6426101-0441-4f14-b14a-03db994a6b57",
   "metadata": {},
   "outputs": [],
   "source": [
    "import pandas as pd"
   ]
  },
  {
   "cell_type": "code",
   "execution_count": 3,
   "id": "f26a1e0d-7a19-4b74-9f61-dc535fb77875",
   "metadata": {},
   "outputs": [],
   "source": [
    "df = pd.read_csv('../combined_dbfs.csv')"
   ]
  },
  {
   "cell_type": "code",
   "execution_count": 5,
   "id": "7c97a7a1-42ee-4ae3-bae2-b7927ab3ebfe",
   "metadata": {},
   "outputs": [],
   "source": [
    "# To lowercase\n",
    "df['Submarket'] = df['Submarket'].str.lower()"
   ]
  },
  {
   "cell_type": "code",
   "execution_count": 6,
   "id": "d53886fc-ddf1-4623-96e2-67096f6d594a",
   "metadata": {},
   "outputs": [],
   "source": [
    "# Remove special characters and standardize\n",
    "def clean_locality(text):\n",
    "    text = text.replace('-', '_')\n",
    "    text = text.replace(' ', '_')\n",
    "    text = text.replace('/', '_')\n",
    "    return text\n",
    "\n",
    "df['Submarket'] = df['Submarket'].apply(clean_locality)"
   ]
  },
  {
   "cell_type": "code",
   "execution_count": 11,
   "id": "628ba8b3-e0a7-4103-8828-579e59ba4a2c",
   "metadata": {},
   "outputs": [],
   "source": [
    "def remove_double(text):\n",
    "    text = text.replace('__', '_')\n",
    "    return text\n",
    "\n",
    "df['Submarket'] = df['Submarket'].apply(remove_double)"
   ]
  },
  {
   "cell_type": "code",
   "execution_count": 14,
   "id": "a24f8318-2ea4-4cb7-92b3-e3805b0e2e4d",
   "metadata": {},
   "outputs": [],
   "source": [
    "df = df[[\"Submarket\", \"Market\"]]"
   ]
  },
  {
   "cell_type": "code",
   "execution_count": 18,
   "id": "1cd26be0-f899-4ab3-a088-c6a26b0ea865",
   "metadata": {},
   "outputs": [],
   "source": [
    "df.to_csv('../submarkets_list.csv')"
   ]
  },
  {
   "cell_type": "code",
   "execution_count": null,
   "id": "6602c954-7e2b-40c7-92a9-19a2942e79ca",
   "metadata": {},
   "outputs": [],
   "source": []
  }
 ],
 "metadata": {
  "kernelspec": {
   "display_name": "Python 3 (ipykernel)",
   "language": "python",
   "name": "python3"
  },
  "language_info": {
   "codemirror_mode": {
    "name": "ipython",
    "version": 3
   },
   "file_extension": ".py",
   "mimetype": "text/x-python",
   "name": "python",
   "nbconvert_exporter": "python",
   "pygments_lexer": "ipython3",
   "version": "3.11.0rc1"
  }
 },
 "nbformat": 4,
 "nbformat_minor": 5
}
