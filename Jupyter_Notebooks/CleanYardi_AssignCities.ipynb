{
 "cells": [
  {
   "cell_type": "code",
   "execution_count": null,
   "id": "01559a82-f7d8-41e0-819b-88239b5fe0a4",
   "metadata": {},
   "outputs": [],
   "source": [
    "import pandas as pd\n",
    "import re"
   ]
  },
  {
   "cell_type": "markdown",
   "id": "9be37a3f-8c6e-4945-ab1b-073abbeafd93",
   "metadata": {
    "jp-MarkdownHeadingCollapsed": true
   },
   "source": [
    "### Cleaning Yardi data\n",
    "Removing from Locality: Numbers, \"- \", Replacing / with _"
   ]
  },
  {
   "cell_type": "code",
   "execution_count": null,
   "id": "c08688f7-49ec-4b90-a367-d047485160df",
   "metadata": {},
   "outputs": [],
   "source": [
    "acs = pd.read_csv('ACS_Data_All_Tracts_and_Submarkets.csv')"
   ]
  },
  {
   "cell_type": "code",
   "execution_count": null,
   "id": "3bf4f218-469b-4b72-8c6d-25f7504c1d89",
   "metadata": {},
   "outputs": [],
   "source": [
    "yardi = pd.read_csv('Yardi_Cleaned.csv')"
   ]
  },
  {
   "cell_type": "code",
   "execution_count": null,
   "id": "cf75e2da-36b3-4553-a328-3bb00028a2fe",
   "metadata": {},
   "outputs": [],
   "source": [
    "yardi = yardi[yardi['Locality'].str.contains('Total', case=False)==False]"
   ]
  },
  {
   "cell_type": "code",
   "execution_count": null,
   "id": "6a39ef2d-a4ab-4f1c-b431-6f984c58d79f",
   "metadata": {},
   "outputs": [],
   "source": [
    "def clean_locality(text):\n",
    "    text = re.sub(r'\\d+', '', text)\n",
    "    text = text.lstrip('- ')\n",
    "    text = text.replace('/', '_')\n",
    "    return text\n",
    "\n",
    "yardi['Locality'] = yardi['Locality'].apply(clean_locality)"
   ]
  },
  {
   "cell_type": "code",
   "execution_count": null,
   "id": "d13ce86d-2708-4900-9c38-f285fa4020ed",
   "metadata": {},
   "outputs": [],
   "source": [
    "yardi.to_csv('yardi_pee.csv')"
   ]
  },
  {
   "cell_type": "markdown",
   "id": "21493929-6a6f-4eaf-b9f0-a6b851e9c79e",
   "metadata": {
    "jp-MarkdownHeadingCollapsed": true
   },
   "source": [
    "### Finding unique submarkets from Yardi"
   ]
  },
  {
   "cell_type": "code",
   "execution_count": null,
   "id": "5731664c-db3b-44aa-94e7-683885f7dcc8",
   "metadata": {},
   "outputs": [],
   "source": [
    "yardi = pd.read_csv('Yardi_Clean_NoTotals.csv')"
   ]
  },
  {
   "cell_type": "code",
   "execution_count": null,
   "id": "35bc8709-3c2b-4ba3-8083-697be16bef19",
   "metadata": {},
   "outputs": [],
   "source": [
    "geoid_to_submarket = pd.read_csv('GEOIDs_to_submarkets.csv')\n",
    "geoid_to_submarket = geoid_to_submarket.groupby(by='submarket').count().reset_index()"
   ]
  },
  {
   "cell_type": "code",
   "execution_count": null,
   "id": "78bf39d6-f57e-4632-ac3f-b986e63b61e3",
   "metadata": {},
   "outputs": [],
   "source": [
    "merged_df = yardi.merge(geoid_to_submarket, left_on='Locality', right_on='submarket', how='outer', indicator=True)\n",
    "\n",
    "non_matching_rows = merged_df[merged_df['_merge'] != 'both']\n",
    "\n",
    "# Save non-matching rows to a new file\n",
    "non_matching_rows.to_csv('non_matching_rows.csv', index=False)"
   ]
  },
  {
   "cell_type": "code",
   "execution_count": null,
   "id": "d42d2976-6b2d-46a7-8888-4c0760ae4af0",
   "metadata": {},
   "outputs": [],
   "source": [
    "geoid_to_submarket.drop_duplicates(subset = 'submarket')\n",
    "geoid_to_submarket"
   ]
  },
  {
   "cell_type": "markdown",
   "id": "9165ee69-a84a-4a56-ac5c-7b947a1af569",
   "metadata": {
    "jp-MarkdownHeadingCollapsed": true
   },
   "source": [
    "### Regression?"
   ]
  },
  {
   "cell_type": "code",
   "execution_count": null,
   "id": "5594e9e9-96aa-4248-bdff-bdff3664ce26",
   "metadata": {},
   "outputs": [],
   "source": [
    "import pandas as pd"
   ]
  },
  {
   "cell_type": "code",
   "execution_count": null,
   "id": "ec812ac8-eb48-4d7b-bfae-d12a604b7501",
   "metadata": {},
   "outputs": [],
   "source": [
    "yardi = pd.read_csv('final_yardi.csv')"
   ]
  },
  {
   "cell_type": "code",
   "execution_count": null,
   "id": "b86fa197-7094-4b24-955d-d30124bf49d2",
   "metadata": {},
   "outputs": [],
   "source": [
    "from sklearn.linear_model import LinearRegression\n",
    "import numpy as np\n",
    "\n",
    "# Assume you have independent variables X and a dependent variable y\n",
    "X = yardi[[\"Some_college_2010\", \"No_bedroom_2010\"]]\n",
    "y = yardi[\"Inventory_Aff_2010\"]\n",
    "\n",
    "# Create an instance of the LinearRegression class\n",
    "reg = LinearRegression()\n",
    "\n",
    "# Fit the model to the data\n",
    "reg.fit(X, y)\n",
    "\n",
    "# Print the coefficients of the model\n",
    "#print(reg.coef_)\n",
    "\n",
    "print(reg.predict([[43842184, 4125765]]))"
   ]
  },
  {
   "cell_type": "markdown",
   "id": "d5ccb020-5834-4cd6-b12a-3719ca04f3f4",
   "metadata": {},
   "source": [
    "### Finding cities for submarkets"
   ]
  },
  {
   "cell_type": "markdown",
   "id": "b2e03a37-2aca-458f-bc1d-8bb1c319b7c3",
   "metadata": {
    "jp-MarkdownHeadingCollapsed": true
   },
   "source": [
    "#### Cleaning locality column"
   ]
  },
  {
   "cell_type": "code",
   "execution_count": 24,
   "id": "4a9b9790-6e2b-4da9-80a3-f2a8ac389d1d",
   "metadata": {},
   "outputs": [],
   "source": [
    "import pandas as pd"
   ]
  },
  {
   "cell_type": "code",
   "execution_count": 29,
   "id": "08a5e91d-cb6f-42d8-a567-0ca3cb5927a1",
   "metadata": {},
   "outputs": [],
   "source": [
    "yardi = pd.read_csv('Yardi_with_cities.csv', low_memory=False)"
   ]
  },
  {
   "cell_type": "code",
   "execution_count": 30,
   "id": "777300fd-c5dd-4e3e-bd98-9dddd24318dc",
   "metadata": {},
   "outputs": [],
   "source": [
    "# To lowercase\n",
    "yardi['Locality'] = yardi['Locality'].str.lower()"
   ]
  },
  {
   "cell_type": "code",
   "execution_count": 31,
   "id": "3e800b41-a723-4c10-9e3d-26928b25b227",
   "metadata": {},
   "outputs": [],
   "source": [
    "# Deleting duplicates and blank rows\n",
    "yardi = yardi.drop_duplicates()\n",
    "yardi = yardi.dropna(how=\"all\")"
   ]
  },
  {
   "cell_type": "code",
   "execution_count": 32,
   "id": "fa620e4f-cc6d-423a-b800-20a098360dc3",
   "metadata": {},
   "outputs": [],
   "source": [
    "#yardi_cleaned.to_csv('pee.csv', index=False)"
   ]
  },
  {
   "cell_type": "markdown",
   "id": "556a2146-34bd-420d-8d80-56870dbe0ceb",
   "metadata": {
    "jp-MarkdownHeadingCollapsed": true
   },
   "source": [
    "#### Manually filled in cities & re-upload"
   ]
  },
  {
   "cell_type": "code",
   "execution_count": 33,
   "id": "5f6a38b0-ac04-4a1d-b985-438962f0ae83",
   "metadata": {},
   "outputs": [],
   "source": [
    "yardi = pd.read_csv('pee.csv')"
   ]
  },
  {
   "cell_type": "code",
   "execution_count": 36,
   "id": "1d922fda-ffb1-4efe-a67c-a14435b7aa15",
   "metadata": {},
   "outputs": [],
   "source": [
    "yardi = yardi.dropna()"
   ]
  },
  {
   "cell_type": "code",
   "execution_count": 37,
   "id": "2e83629f-1b57-4cdf-8336-f4177a5c0ab9",
   "metadata": {},
   "outputs": [],
   "source": [
    "#yardi.to_csv('pee.csv', index=False)"
   ]
  },
  {
   "cell_type": "markdown",
   "id": "d520fc5b-afbc-46ad-a62b-6ce3ceed1159",
   "metadata": {
    "jp-MarkdownHeadingCollapsed": true
   },
   "source": [
    "#### Deleted extra cols & re-upload"
   ]
  },
  {
   "cell_type": "code",
   "execution_count": 1,
   "id": "a21ad097-8fd8-4289-a9bf-679815bb6e3c",
   "metadata": {},
   "outputs": [],
   "source": [
    "import pandas as pd\n",
    "import re\n",
    "\n",
    "yardi = pd.read_csv('pee.csv')\n",
    "\n",
    "def clean_locality(text):\n",
    "    text = re.sub(r'\\d+', '', text)\n",
    "    text = text.lstrip('- ')\n",
    "    text = text.replace('/', '_')\n",
    "    return text\n",
    "\n",
    "yardi['Locality'] = yardi['Locality'].apply(clean_locality)"
   ]
  },
  {
   "cell_type": "code",
   "execution_count": 2,
   "id": "fbc37097-fc50-435b-89e6-3264c05623d6",
   "metadata": {},
   "outputs": [],
   "source": [
    "yardi.to_csv('pee.csv', index=False)"
   ]
  },
  {
   "cell_type": "markdown",
   "id": "2da48849-7e05-4e4a-bf29-b5f40a024971",
   "metadata": {
    "jp-MarkdownHeadingCollapsed": true
   },
   "source": [
    "#### Cleaning GEOIDs_to_submarkets.csv"
   ]
  },
  {
   "cell_type": "code",
   "execution_count": 1,
   "id": "3eb136dd-5c5b-4adb-9682-b7bd0e08e772",
   "metadata": {},
   "outputs": [],
   "source": [
    "import pandas as pd\n",
    "import re\n",
    "\n",
    "yardi = pd.read_csv('GEOIDs_to_submarkets.csv')\n",
    "\n",
    "def clean_locality(text):\n",
    "    text = text.replace(' ', '_')\n",
    "    text = text.replace('-', '_')\n",
    "    text = text.replace('/', '_')\n",
    "    return text\n",
    "\n",
    "yardi['submarket'] = yardi['submarket'].apply(clean_locality)"
   ]
  },
  {
   "cell_type": "code",
   "execution_count": 7,
   "id": "a0c1a8f3-d56f-4437-9b6e-4aaacc57b9dc",
   "metadata": {},
   "outputs": [],
   "source": [
    "# Run this 2x\n",
    "def clean_locality(text):\n",
    "    text = text.replace('__', '_')\n",
    "    return text\n",
    "\n",
    "yardi['submarket'] = yardi['submarket'].apply(clean_locality)\n",
    "yardi['submarket'] = yardi['submarket'].str.lower()"
   ]
  },
  {
   "cell_type": "code",
   "execution_count": 9,
   "id": "d7e88043-9bc5-4a2b-96a1-62a4887dccb3",
   "metadata": {},
   "outputs": [],
   "source": [
    "yardi.to_csv('GEOIDs_to_submarkets_CLEAN.csv')"
   ]
  },
  {
   "cell_type": "markdown",
   "id": "4947b149-3ec9-4e87-97a6-56fae35dde77",
   "metadata": {
    "jp-MarkdownHeadingCollapsed": true
   },
   "source": [
    "### Merge Locality_and_City with overall dataset"
   ]
  },
  {
   "cell_type": "code",
   "execution_count": 1,
   "id": "b76dbcaa-de89-486f-923f-54f2d4264307",
   "metadata": {},
   "outputs": [],
   "source": [
    "import pandas as pd"
   ]
  },
  {
   "cell_type": "code",
   "execution_count": 2,
   "id": "20b84a2b-2178-48e5-9caa-b8790ebd0d57",
   "metadata": {},
   "outputs": [],
   "source": [
    "acsyardi = pd.read_csv('acsyardicomplete.csv')\n",
    "cities = pd.read_csv('Locality_and_city_CLEAN.csv')"
   ]
  },
  {
   "cell_type": "code",
   "execution_count": 63,
   "id": "97519595-863a-445c-8e8c-19b611345424",
   "metadata": {},
   "outputs": [],
   "source": [
    "# Need to replace spaces in Locality with underscores\n",
    "'''\n",
    "def clean_locality(text):\n",
    "    text = text.replace(' ', '_')\n",
    "    text = text.replace(' - ', '_')\n",
    "    return text\n",
    "\n",
    "cities['Locality'] = cities['Locality'].apply(clean_locality)\n",
    "\n",
    "#cities.to_csv('Locality_and_city_CLEAN.csv')\n",
    "'''"
   ]
  },
  {
   "cell_type": "code",
   "execution_count": 8,
   "id": "dcd52e79-ce94-4569-b410-4d2c053b06aa",
   "metadata": {},
   "outputs": [],
   "source": [
    "final = pd.merge(acsyardi, cities, left_on=\"Submarket\", right_on=\"Locality\", how=\"right\")"
   ]
  },
  {
   "cell_type": "code",
   "execution_count": 9,
   "id": "d0f86218-597f-40d3-823e-77bcbb7d67a7",
   "metadata": {},
   "outputs": [],
   "source": [
    "final.to_csv(\"acsyardi_with_cities_RIGHTJOIN.csv\")"
   ]
  },
  {
   "cell_type": "markdown",
   "id": "ed8fe7fe-79a9-4306-bb68-b9903093c2c0",
   "metadata": {
    "jp-MarkdownHeadingCollapsed": true
   },
   "source": [
    "### ~Merge GEOID, Submarket, City~"
   ]
  },
  {
   "cell_type": "code",
   "execution_count": 10,
   "id": "55eec2e5-eaf1-44e6-9f84-201b7286c43e",
   "metadata": {},
   "outputs": [],
   "source": [
    "import pandas as pd"
   ]
  },
  {
   "cell_type": "code",
   "execution_count": 19,
   "id": "0ad6366b-3deb-4f33-acaf-b989865cd81b",
   "metadata": {},
   "outputs": [],
   "source": [
    "submarkets = pd.read_csv('submarkets_list_CLEAN.csv') # From combined DBFs\n",
    "city = pd.read_csv('Locality_and_city_CLEAN.csv') # From Yardi excel file"
   ]
  },
  {
   "cell_type": "code",
   "execution_count": 23,
   "id": "83136d27-c62e-47c4-aab5-c227cf27fd9f",
   "metadata": {},
   "outputs": [],
   "source": [
    "df = pd.merge(submarkets, city, left_on='Submarket', right_on='Locality', how='inner')\n",
    "df = df[['Submarket', 'Locality', 'City']]"
   ]
  },
  {
   "cell_type": "code",
   "execution_count": 24,
   "id": "c68a78fc-23c7-490c-acd4-13f3553e28bc",
   "metadata": {},
   "outputs": [],
   "source": [
    "df.to_csv('submarket_locality_city.csv')"
   ]
  },
  {
   "cell_type": "code",
   "execution_count": 25,
   "id": "b4afe20e-4acb-4d08-b385-dc245d5ff15d",
   "metadata": {},
   "outputs": [],
   "source": [
    "geoid = pd.read_csv('GEOIDs_to_submarkets_CLEAN.csv')"
   ]
  },
  {
   "cell_type": "code",
   "execution_count": 29,
   "id": "7da6e684-3c0e-461d-9a50-23a525674351",
   "metadata": {},
   "outputs": [],
   "source": [
    "df = pd.merge(geoid, df, left_on='submarket', right_on='Submarket', how='left')"
   ]
  },
  {
   "cell_type": "code",
   "execution_count": 30,
   "id": "41ca8461-9ca9-4dcc-990a-726f3a1e0f88",
   "metadata": {},
   "outputs": [],
   "source": [
    "df.to_csv('pee.csv')"
   ]
  },
  {
   "cell_type": "markdown",
   "id": "be4f38a7-06c9-4d34-8a6b-b037e378581a",
   "metadata": {
    "jp-MarkdownHeadingCollapsed": true
   },
   "source": [
    "### Merge GEOID, Submarket, City"
   ]
  },
  {
   "cell_type": "code",
   "execution_count": 1,
   "id": "e280636b-1b2e-4f32-9c15-56dcdda341ad",
   "metadata": {},
   "outputs": [],
   "source": [
    "import pandas as pd"
   ]
  },
  {
   "cell_type": "code",
   "execution_count": 2,
   "id": "ff52b873-2d8a-4ebc-b54e-f9b17f85862e",
   "metadata": {},
   "outputs": [],
   "source": [
    "geoid = pd.read_csv('GEOIDs_to_submarkets_CLEAN.csv') #Spatial data\n",
    "city = pd.read_csv('Locality_and_city_CLEAN.csv') #Housing data"
   ]
  },
  {
   "cell_type": "code",
   "execution_count": 3,
   "id": "f265f35b-0d9f-46c1-a606-17248e37f0ef",
   "metadata": {},
   "outputs": [],
   "source": [
    "df = pd.merge(geoid, city, left_on='submarket', right_on='Locality', how='inner')"
   ]
  },
  {
   "cell_type": "code",
   "execution_count": 4,
   "id": "ad80b09e-1cb3-45ca-b89c-60250343450d",
   "metadata": {},
   "outputs": [],
   "source": [
    "#df.to_csv('GEOID_submarket_city.csv')"
   ]
  },
  {
   "cell_type": "code",
   "execution_count": 7,
   "id": "fb9b8bfd-d974-475a-a96b-65fdbb66b39d",
   "metadata": {},
   "outputs": [
    {
     "data": {
      "text/html": [
       "<div>\n",
       "<style scoped>\n",
       "    .dataframe tbody tr th:only-of-type {\n",
       "        vertical-align: middle;\n",
       "    }\n",
       "\n",
       "    .dataframe tbody tr th {\n",
       "        vertical-align: top;\n",
       "    }\n",
       "\n",
       "    .dataframe thead th {\n",
       "        text-align: right;\n",
       "    }\n",
       "</style>\n",
       "<table border=\"1\" class=\"dataframe\">\n",
       "  <thead>\n",
       "    <tr style=\"text-align: right;\">\n",
       "      <th></th>\n",
       "      <th>GEOID</th>\n",
       "      <th>submarket</th>\n",
       "      <th>City</th>\n",
       "    </tr>\n",
       "    <tr>\n",
       "      <th>Locality</th>\n",
       "      <th></th>\n",
       "      <th></th>\n",
       "      <th></th>\n",
       "    </tr>\n",
       "  </thead>\n",
       "  <tbody>\n",
       "    <tr>\n",
       "      <th>alamo_heights_central</th>\n",
       "      <td>5</td>\n",
       "      <td>5</td>\n",
       "      <td>5</td>\n",
       "    </tr>\n",
       "    <tr>\n",
       "      <th>arlington_central</th>\n",
       "      <td>11</td>\n",
       "      <td>11</td>\n",
       "      <td>11</td>\n",
       "    </tr>\n",
       "    <tr>\n",
       "      <th>arlington_east</th>\n",
       "      <td>11</td>\n",
       "      <td>11</td>\n",
       "      <td>11</td>\n",
       "    </tr>\n",
       "    <tr>\n",
       "      <th>arlington_north</th>\n",
       "      <td>17</td>\n",
       "      <td>17</td>\n",
       "      <td>17</td>\n",
       "    </tr>\n",
       "    <tr>\n",
       "      <th>arlington_south</th>\n",
       "      <td>28</td>\n",
       "      <td>28</td>\n",
       "      <td>28</td>\n",
       "    </tr>\n",
       "    <tr>\n",
       "      <th>...</th>\n",
       "      <td>...</td>\n",
       "      <td>...</td>\n",
       "      <td>...</td>\n",
       "    </tr>\n",
       "    <tr>\n",
       "      <th>west_end_downtown</th>\n",
       "      <td>36</td>\n",
       "      <td>36</td>\n",
       "      <td>36</td>\n",
       "    </tr>\n",
       "    <tr>\n",
       "      <th>west_end_fairlie_poplar_underground</th>\n",
       "      <td>20</td>\n",
       "      <td>20</td>\n",
       "      <td>20</td>\n",
       "    </tr>\n",
       "    <tr>\n",
       "      <th>west_side</th>\n",
       "      <td>13</td>\n",
       "      <td>13</td>\n",
       "      <td>13</td>\n",
       "    </tr>\n",
       "    <tr>\n",
       "      <th>william_p_hobby_airport</th>\n",
       "      <td>36</td>\n",
       "      <td>36</td>\n",
       "      <td>36</td>\n",
       "    </tr>\n",
       "    <tr>\n",
       "      <th>winstead_park</th>\n",
       "      <td>3</td>\n",
       "      <td>3</td>\n",
       "      <td>3</td>\n",
       "    </tr>\n",
       "  </tbody>\n",
       "</table>\n",
       "<p>323 rows × 3 columns</p>\n",
       "</div>"
      ],
      "text/plain": [
       "                                     GEOID  submarket  City\n",
       "Locality                                                   \n",
       "alamo_heights_central                    5          5     5\n",
       "arlington_central                       11         11    11\n",
       "arlington_east                          11         11    11\n",
       "arlington_north                         17         17    17\n",
       "arlington_south                         28         28    28\n",
       "...                                    ...        ...   ...\n",
       "west_end_downtown                       36         36    36\n",
       "west_end_fairlie_poplar_underground     20         20    20\n",
       "west_side                               13         13    13\n",
       "william_p_hobby_airport                 36         36    36\n",
       "winstead_park                            3          3     3\n",
       "\n",
       "[323 rows x 3 columns]"
      ]
     },
     "execution_count": 7,
     "metadata": {},
     "output_type": "execute_result"
    }
   ],
   "source": [
    "df.groupby('Locality').count() #How many submarkets do we have spatial & housing data for?"
   ]
  },
  {
   "cell_type": "code",
   "execution_count": 20,
   "id": "88032066-2920-43ec-9678-2b0bfe2b8f6f",
   "metadata": {},
   "outputs": [],
   "source": [
    "acsyardi = pd.read_csv('acsyardi.csv')\n",
    "city = pd.read_csv('submarkets_and_cities.csv')"
   ]
  },
  {
   "cell_type": "code",
   "execution_count": 21,
   "id": "60a8765c-62e4-469d-a271-c6191868c04c",
   "metadata": {},
   "outputs": [
    {
     "data": {
      "text/html": [
       "<div>\n",
       "<style scoped>\n",
       "    .dataframe tbody tr th:only-of-type {\n",
       "        vertical-align: middle;\n",
       "    }\n",
       "\n",
       "    .dataframe tbody tr th {\n",
       "        vertical-align: top;\n",
       "    }\n",
       "\n",
       "    .dataframe thead th {\n",
       "        text-align: right;\n",
       "    }\n",
       "</style>\n",
       "<table border=\"1\" class=\"dataframe\">\n",
       "  <thead>\n",
       "    <tr style=\"text-align: right;\">\n",
       "      <th></th>\n",
       "      <th>Submarket</th>\n",
       "      <th>City</th>\n",
       "    </tr>\n",
       "  </thead>\n",
       "  <tbody>\n",
       "    <tr>\n",
       "      <th>0</th>\n",
       "      <td>eubank_acres_south</td>\n",
       "      <td>Austin</td>\n",
       "    </tr>\n",
       "    <tr>\n",
       "      <th>1</th>\n",
       "      <td>eubank_acres_north</td>\n",
       "      <td>Austin</td>\n",
       "    </tr>\n",
       "    <tr>\n",
       "      <th>2</th>\n",
       "      <td>dessau</td>\n",
       "      <td>Austin</td>\n",
       "    </tr>\n",
       "    <tr>\n",
       "      <th>3</th>\n",
       "      <td>walnut_forest</td>\n",
       "      <td>Austin</td>\n",
       "    </tr>\n",
       "    <tr>\n",
       "      <th>4</th>\n",
       "      <td>pleasant_hill_east</td>\n",
       "      <td>Austin</td>\n",
       "    </tr>\n",
       "    <tr>\n",
       "      <th>...</th>\n",
       "      <td>...</td>\n",
       "      <td>...</td>\n",
       "    </tr>\n",
       "    <tr>\n",
       "      <th>318</th>\n",
       "      <td>clearwater_east</td>\n",
       "      <td>Clearwater</td>\n",
       "    </tr>\n",
       "    <tr>\n",
       "      <th>319</th>\n",
       "      <td>tampa_tampa_heights</td>\n",
       "      <td>Tampa</td>\n",
       "    </tr>\n",
       "    <tr>\n",
       "      <th>320</th>\n",
       "      <td>st_petersburg_east</td>\n",
       "      <td>St Petersburg</td>\n",
       "    </tr>\n",
       "    <tr>\n",
       "      <th>321</th>\n",
       "      <td>st_petersburg_north</td>\n",
       "      <td>St Petersburg</td>\n",
       "    </tr>\n",
       "    <tr>\n",
       "      <th>322</th>\n",
       "      <td>tampa_sun_bay_south</td>\n",
       "      <td>Tampa</td>\n",
       "    </tr>\n",
       "  </tbody>\n",
       "</table>\n",
       "<p>323 rows × 2 columns</p>\n",
       "</div>"
      ],
      "text/plain": [
       "               Submarket           City\n",
       "0     eubank_acres_south         Austin\n",
       "1     eubank_acres_north         Austin\n",
       "2                 dessau         Austin\n",
       "3          walnut_forest         Austin\n",
       "4     pleasant_hill_east         Austin\n",
       "..                   ...            ...\n",
       "318      clearwater_east     Clearwater\n",
       "319  tampa_tampa_heights          Tampa\n",
       "320   st_petersburg_east  St Petersburg\n",
       "321  st_petersburg_north  St Petersburg\n",
       "322  tampa_sun_bay_south          Tampa\n",
       "\n",
       "[323 rows x 2 columns]"
      ]
     },
     "execution_count": 21,
     "metadata": {},
     "output_type": "execute_result"
    }
   ],
   "source": [
    "city.drop_duplicates()"
   ]
  },
  {
   "cell_type": "code",
   "execution_count": 22,
   "id": "74342d48-0002-448a-bda4-21dab2bed518",
   "metadata": {},
   "outputs": [],
   "source": [
    "df = pd.merge(acsyardi, city, on='Submarket', how='inner')"
   ]
  },
  {
   "cell_type": "code",
   "execution_count": 23,
   "id": "3aba2862-8c65-48ac-b73e-bb9b3c4240e8",
   "metadata": {},
   "outputs": [],
   "source": [
    "df.to_csv('pee.csv')"
   ]
  },
  {
   "cell_type": "code",
   "execution_count": null,
   "id": "412de9fb-8b4e-4a00-bb72-cf0b6594fc3f",
   "metadata": {},
   "outputs": [],
   "source": []
  }
 ],
 "metadata": {
  "kernelspec": {
   "display_name": "Python 3 (ipykernel)",
   "language": "python",
   "name": "python3"
  },
  "language_info": {
   "codemirror_mode": {
    "name": "ipython",
    "version": 3
   },
   "file_extension": ".py",
   "mimetype": "text/x-python",
   "name": "python",
   "nbconvert_exporter": "python",
   "pygments_lexer": "ipython3",
   "version": "3.11.0rc1"
  }
 },
 "nbformat": 4,
 "nbformat_minor": 5
}
